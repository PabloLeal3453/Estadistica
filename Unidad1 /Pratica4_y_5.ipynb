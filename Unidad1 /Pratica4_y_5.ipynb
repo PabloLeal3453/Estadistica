{
  "nbformat": 4,
  "nbformat_minor": 0,
  "metadata": {
    "colab": {
      "provenance": [],
      "authorship_tag": "ABX9TyOg1rLucVsIkU25fvFVO9SM",
      "include_colab_link": true
    },
    "kernelspec": {
      "name": "python3",
      "display_name": "Python 3"
    },
    "language_info": {
      "name": "python"
    }
  },
  "cells": [
    {
      "cell_type": "markdown",
      "metadata": {
        "id": "view-in-github",
        "colab_type": "text"
      },
      "source": [
        "<a href=\"https://colab.research.google.com/github/PabloLeal3453/Estadistica/blob/main/Unidad1%20/Pratica4_y_5.ipynb\" target=\"_parent\"><img src=\"https://colab.research.google.com/assets/colab-badge.svg\" alt=\"Open In Colab\"/></a>"
      ]
    },
    {
      "cell_type": "markdown",
      "source": [
        "![images.png](data:image/png;base64,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)\n",
        "![Logo IRD.jpg](data:image/jpeg;base64,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)\n",
        "#Probabilidad y Estadistica\n",
        "#Unidad 1\n",
        "##Practica 4. Tabla de frecuencias\n",
        "Facilitador: Dr.Jose Gabriel Rodriguez Rivas\n",
        "\n",
        "Grupo: 2YY\n",
        "\n",
        "Alumno: PAblo Gabriel Leal Nuñez."
      ],
      "metadata": {
        "id": "Rt18STWUdEKe"
      }
    },
    {
      "cell_type": "code",
      "execution_count": null,
      "metadata": {
        "id": "sYy0zqoQdBl0"
      },
      "outputs": [],
      "source": [
        "import random"
      ]
    },
    {
      "cell_type": "code",
      "source": [
        "edades = []\n",
        "for i in range(100):\n",
        "  numero_aleatorio = random.randint(18, 70)\n",
        "  edades.append(numero_aleatorio)\n",
        "print(edades)"
      ],
      "metadata": {
        "colab": {
          "base_uri": "https://localhost:8080/"
        },
        "id": "ISRHW1XJdhS5",
        "outputId": "0f0f840f-cf04-46c9-cf69-d59f95b5d5e7"
      },
      "execution_count": null,
      "outputs": [
        {
          "output_type": "stream",
          "name": "stdout",
          "text": [
            "[33, 41, 51, 67, 28, 57, 35, 65, 27, 22, 38, 39, 42, 38, 40, 34, 38, 31, 48, 40, 21, 49, 20, 56, 46, 37, 34, 60, 70, 37, 52, 62, 33, 64, 48, 48, 59, 39, 32, 39, 27, 26, 45, 53, 62, 41, 50, 69, 39, 18, 55, 32, 28, 44, 67, 40, 66, 53, 68, 48, 49, 49, 65, 66, 65, 61, 64, 42, 28, 53, 21, 38, 42, 20, 57, 21, 38, 42, 67, 68, 25, 32, 63, 18, 40, 60, 32, 45, 54, 55, 54, 32, 51, 45, 41, 66, 50, 19, 21, 69]\n"
          ]
        }
      ]
    },
    {
      "cell_type": "code",
      "source": [
        "import pandas as pd"
      ],
      "metadata": {
        "id": "goaFtwj5dnvm"
      },
      "execution_count": null,
      "outputs": []
    },
    {
      "cell_type": "code",
      "source": [
        "df = pd.DataFrame(edades, columns=['Edad'])\n",
        "df.head()"
      ],
      "metadata": {
        "colab": {
          "base_uri": "https://localhost:8080/",
          "height": 206
        },
        "id": "f8j1qjA6dseR",
        "outputId": "1caefdaa-905c-4c3c-a2d5-8415b0c32a51"
      },
      "execution_count": null,
      "outputs": [
        {
          "output_type": "execute_result",
          "data": {
            "text/plain": [
              "   Edad\n",
              "0    33\n",
              "1    41\n",
              "2    51\n",
              "3    67\n",
              "4    28"
            ],
            "text/html": [
              "\n",
              "  <div id=\"df-044122bb-38aa-48b2-bdcb-f5f7011c98bd\" class=\"colab-df-container\">\n",
              "    <div>\n",
              "<style scoped>\n",
              "    .dataframe tbody tr th:only-of-type {\n",
              "        vertical-align: middle;\n",
              "    }\n",
              "\n",
              "    .dataframe tbody tr th {\n",
              "        vertical-align: top;\n",
              "    }\n",
              "\n",
              "    .dataframe thead th {\n",
              "        text-align: right;\n",
              "    }\n",
              "</style>\n",
              "<table border=\"1\" class=\"dataframe\">\n",
              "  <thead>\n",
              "    <tr style=\"text-align: right;\">\n",
              "      <th></th>\n",
              "      <th>Edad</th>\n",
              "    </tr>\n",
              "  </thead>\n",
              "  <tbody>\n",
              "    <tr>\n",
              "      <th>0</th>\n",
              "      <td>33</td>\n",
              "    </tr>\n",
              "    <tr>\n",
              "      <th>1</th>\n",
              "      <td>41</td>\n",
              "    </tr>\n",
              "    <tr>\n",
              "      <th>2</th>\n",
              "      <td>51</td>\n",
              "    </tr>\n",
              "    <tr>\n",
              "      <th>3</th>\n",
              "      <td>67</td>\n",
              "    </tr>\n",
              "    <tr>\n",
              "      <th>4</th>\n",
              "      <td>28</td>\n",
              "    </tr>\n",
              "  </tbody>\n",
              "</table>\n",
              "</div>\n",
              "    <div class=\"colab-df-buttons\">\n",
              "\n",
              "  <div class=\"colab-df-container\">\n",
              "    <button class=\"colab-df-convert\" onclick=\"convertToInteractive('df-044122bb-38aa-48b2-bdcb-f5f7011c98bd')\"\n",
              "            title=\"Convert this dataframe to an interactive table.\"\n",
              "            style=\"display:none;\">\n",
              "\n",
              "  <svg xmlns=\"http://www.w3.org/2000/svg\" height=\"24px\" viewBox=\"0 -960 960 960\">\n",
              "    <path d=\"M120-120v-720h720v720H120Zm60-500h600v-160H180v160Zm220 220h160v-160H400v160Zm0 220h160v-160H400v160ZM180-400h160v-160H180v160Zm440 0h160v-160H620v160ZM180-180h160v-160H180v160Zm440 0h160v-160H620v160Z\"/>\n",
              "  </svg>\n",
              "    </button>\n",
              "\n",
              "  <style>\n",
              "    .colab-df-container {\n",
              "      display:flex;\n",
              "      gap: 12px;\n",
              "    }\n",
              "\n",
              "    .colab-df-convert {\n",
              "      background-color: #E8F0FE;\n",
              "      border: none;\n",
              "      border-radius: 50%;\n",
              "      cursor: pointer;\n",
              "      display: none;\n",
              "      fill: #1967D2;\n",
              "      height: 32px;\n",
              "      padding: 0 0 0 0;\n",
              "      width: 32px;\n",
              "    }\n",
              "\n",
              "    .colab-df-convert:hover {\n",
              "      background-color: #E2EBFA;\n",
              "      box-shadow: 0px 1px 2px rgba(60, 64, 67, 0.3), 0px 1px 3px 1px rgba(60, 64, 67, 0.15);\n",
              "      fill: #174EA6;\n",
              "    }\n",
              "\n",
              "    .colab-df-buttons div {\n",
              "      margin-bottom: 4px;\n",
              "    }\n",
              "\n",
              "    [theme=dark] .colab-df-convert {\n",
              "      background-color: #3B4455;\n",
              "      fill: #D2E3FC;\n",
              "    }\n",
              "\n",
              "    [theme=dark] .colab-df-convert:hover {\n",
              "      background-color: #434B5C;\n",
              "      box-shadow: 0px 1px 3px 1px rgba(0, 0, 0, 0.15);\n",
              "      filter: drop-shadow(0px 1px 2px rgba(0, 0, 0, 0.3));\n",
              "      fill: #FFFFFF;\n",
              "    }\n",
              "  </style>\n",
              "\n",
              "    <script>\n",
              "      const buttonEl =\n",
              "        document.querySelector('#df-044122bb-38aa-48b2-bdcb-f5f7011c98bd button.colab-df-convert');\n",
              "      buttonEl.style.display =\n",
              "        google.colab.kernel.accessAllowed ? 'block' : 'none';\n",
              "\n",
              "      async function convertToInteractive(key) {\n",
              "        const element = document.querySelector('#df-044122bb-38aa-48b2-bdcb-f5f7011c98bd');\n",
              "        const dataTable =\n",
              "          await google.colab.kernel.invokeFunction('convertToInteractive',\n",
              "                                                    [key], {});\n",
              "        if (!dataTable) return;\n",
              "\n",
              "        const docLinkHtml = 'Like what you see? Visit the ' +\n",
              "          '<a target=\"_blank\" href=https://colab.research.google.com/notebooks/data_table.ipynb>data table notebook</a>'\n",
              "          + ' to learn more about interactive tables.';\n",
              "        element.innerHTML = '';\n",
              "        dataTable['output_type'] = 'display_data';\n",
              "        await google.colab.output.renderOutput(dataTable, element);\n",
              "        const docLink = document.createElement('div');\n",
              "        docLink.innerHTML = docLinkHtml;\n",
              "        element.appendChild(docLink);\n",
              "      }\n",
              "    </script>\n",
              "  </div>\n",
              "\n",
              "\n",
              "<div id=\"df-d04f7f92-7da5-4a8e-9242-09307ee1f83d\">\n",
              "  <button class=\"colab-df-quickchart\" onclick=\"quickchart('df-d04f7f92-7da5-4a8e-9242-09307ee1f83d')\"\n",
              "            title=\"Suggest charts\"\n",
              "            style=\"display:none;\">\n",
              "\n",
              "<svg xmlns=\"http://www.w3.org/2000/svg\" height=\"24px\"viewBox=\"0 0 24 24\"\n",
              "     width=\"24px\">\n",
              "    <g>\n",
              "        <path d=\"M19 3H5c-1.1 0-2 .9-2 2v14c0 1.1.9 2 2 2h14c1.1 0 2-.9 2-2V5c0-1.1-.9-2-2-2zM9 17H7v-7h2v7zm4 0h-2V7h2v10zm4 0h-2v-4h2v4z\"/>\n",
              "    </g>\n",
              "</svg>\n",
              "  </button>\n",
              "\n",
              "<style>\n",
              "  .colab-df-quickchart {\n",
              "      --bg-color: #E8F0FE;\n",
              "      --fill-color: #1967D2;\n",
              "      --hover-bg-color: #E2EBFA;\n",
              "      --hover-fill-color: #174EA6;\n",
              "      --disabled-fill-color: #AAA;\n",
              "      --disabled-bg-color: #DDD;\n",
              "  }\n",
              "\n",
              "  [theme=dark] .colab-df-quickchart {\n",
              "      --bg-color: #3B4455;\n",
              "      --fill-color: #D2E3FC;\n",
              "      --hover-bg-color: #434B5C;\n",
              "      --hover-fill-color: #FFFFFF;\n",
              "      --disabled-bg-color: #3B4455;\n",
              "      --disabled-fill-color: #666;\n",
              "  }\n",
              "\n",
              "  .colab-df-quickchart {\n",
              "    background-color: var(--bg-color);\n",
              "    border: none;\n",
              "    border-radius: 50%;\n",
              "    cursor: pointer;\n",
              "    display: none;\n",
              "    fill: var(--fill-color);\n",
              "    height: 32px;\n",
              "    padding: 0;\n",
              "    width: 32px;\n",
              "  }\n",
              "\n",
              "  .colab-df-quickchart:hover {\n",
              "    background-color: var(--hover-bg-color);\n",
              "    box-shadow: 0 1px 2px rgba(60, 64, 67, 0.3), 0 1px 3px 1px rgba(60, 64, 67, 0.15);\n",
              "    fill: var(--button-hover-fill-color);\n",
              "  }\n",
              "\n",
              "  .colab-df-quickchart-complete:disabled,\n",
              "  .colab-df-quickchart-complete:disabled:hover {\n",
              "    background-color: var(--disabled-bg-color);\n",
              "    fill: var(--disabled-fill-color);\n",
              "    box-shadow: none;\n",
              "  }\n",
              "\n",
              "  .colab-df-spinner {\n",
              "    border: 2px solid var(--fill-color);\n",
              "    border-color: transparent;\n",
              "    border-bottom-color: var(--fill-color);\n",
              "    animation:\n",
              "      spin 1s steps(1) infinite;\n",
              "  }\n",
              "\n",
              "  @keyframes spin {\n",
              "    0% {\n",
              "      border-color: transparent;\n",
              "      border-bottom-color: var(--fill-color);\n",
              "      border-left-color: var(--fill-color);\n",
              "    }\n",
              "    20% {\n",
              "      border-color: transparent;\n",
              "      border-left-color: var(--fill-color);\n",
              "      border-top-color: var(--fill-color);\n",
              "    }\n",
              "    30% {\n",
              "      border-color: transparent;\n",
              "      border-left-color: var(--fill-color);\n",
              "      border-top-color: var(--fill-color);\n",
              "      border-right-color: var(--fill-color);\n",
              "    }\n",
              "    40% {\n",
              "      border-color: transparent;\n",
              "      border-right-color: var(--fill-color);\n",
              "      border-top-color: var(--fill-color);\n",
              "    }\n",
              "    60% {\n",
              "      border-color: transparent;\n",
              "      border-right-color: var(--fill-color);\n",
              "    }\n",
              "    80% {\n",
              "      border-color: transparent;\n",
              "      border-right-color: var(--fill-color);\n",
              "      border-bottom-color: var(--fill-color);\n",
              "    }\n",
              "    90% {\n",
              "      border-color: transparent;\n",
              "      border-bottom-color: var(--fill-color);\n",
              "    }\n",
              "  }\n",
              "</style>\n",
              "\n",
              "  <script>\n",
              "    async function quickchart(key) {\n",
              "      const quickchartButtonEl =\n",
              "        document.querySelector('#' + key + ' button');\n",
              "      quickchartButtonEl.disabled = true;  // To prevent multiple clicks.\n",
              "      quickchartButtonEl.classList.add('colab-df-spinner');\n",
              "      try {\n",
              "        const charts = await google.colab.kernel.invokeFunction(\n",
              "            'suggestCharts', [key], {});\n",
              "      } catch (error) {\n",
              "        console.error('Error during call to suggestCharts:', error);\n",
              "      }\n",
              "      quickchartButtonEl.classList.remove('colab-df-spinner');\n",
              "      quickchartButtonEl.classList.add('colab-df-quickchart-complete');\n",
              "    }\n",
              "    (() => {\n",
              "      let quickchartButtonEl =\n",
              "        document.querySelector('#df-d04f7f92-7da5-4a8e-9242-09307ee1f83d button');\n",
              "      quickchartButtonEl.style.display =\n",
              "        google.colab.kernel.accessAllowed ? 'block' : 'none';\n",
              "    })();\n",
              "  </script>\n",
              "</div>\n",
              "\n",
              "    </div>\n",
              "  </div>\n"
            ],
            "application/vnd.google.colaboratory.intrinsic+json": {
              "type": "dataframe",
              "variable_name": "df",
              "summary": "{\n  \"name\": \"df\",\n  \"rows\": 100,\n  \"fields\": [\n    {\n      \"column\": \"Edad\",\n      \"properties\": {\n        \"dtype\": \"number\",\n        \"std\": 14,\n        \"min\": 18,\n        \"max\": 70,\n        \"num_unique_values\": 45,\n        \"samples\": [\n          68,\n          52,\n          62\n        ],\n        \"semantic_type\": \"\",\n        \"description\": \"\"\n      }\n    }\n  ]\n}"
            }
          },
          "metadata": {},
          "execution_count": 5
        }
      ]
    },
    {
      "cell_type": "code",
      "source": [
        "tabla_frecuencias = df['Edad'].value_counts().reset_index()\n",
        "tabla_frecuencias.columns = ['Edad', 'Frecuencia']\n",
        "tabla_frecuencias = tabla_frecuencias.sort_values(by='Edad')\n",
        "print(tabla_frecuencias)"
      ],
      "metadata": {
        "colab": {
          "base_uri": "https://localhost:8080/"
        },
        "id": "znoAFgyQd_nC",
        "outputId": "163763c0-3fc5-4df2-c66b-44cab76b8189"
      },
      "execution_count": null,
      "outputs": [
        {
          "output_type": "stream",
          "name": "stdout",
          "text": [
            "    Edad  Frecuencia\n",
            "19    18           2\n",
            "44    19           1\n",
            "27    20           2\n",
            "6     21           4\n",
            "37    22           1\n",
            "34    25           1\n",
            "41    26           1\n",
            "30    27           2\n",
            "9     28           3\n",
            "39    31           1\n",
            "0     32           5\n",
            "15    33           2\n",
            "29    34           2\n",
            "36    35           1\n",
            "24    37           2\n",
            "1     38           5\n",
            "4     39           4\n",
            "5     40           4\n",
            "7     41           3\n",
            "2     42           4\n",
            "32    44           1\n",
            "12    45           3\n",
            "42    46           1\n",
            "3     48           4\n",
            "14    49           3\n",
            "16    50           2\n",
            "26    51           2\n",
            "31    52           1\n",
            "13    53           3\n",
            "22    54           2\n",
            "20    55           2\n",
            "40    56           1\n",
            "28    57           2\n",
            "43    59           1\n",
            "25    60           2\n",
            "35    61           1\n",
            "18    62           2\n",
            "33    63           1\n",
            "23    64           2\n",
            "11    65           3\n",
            "10    66           3\n",
            "8     67           3\n",
            "21    68           2\n",
            "17    69           2\n",
            "38    70           1\n"
          ]
        }
      ]
    },
    {
      "cell_type": "code",
      "source": [
        "tabla_frecuencias['Frec_Relativa'] = tabla_frecuencias['Frecuencia'] / 100\n",
        "print(tabla_frecuencias)"
      ],
      "metadata": {
        "colab": {
          "base_uri": "https://localhost:8080/"
        },
        "id": "D2H6ki8PeEw0",
        "outputId": "5c984df3-2832-4d14-ada4-5b93c5ce7196"
      },
      "execution_count": null,
      "outputs": [
        {
          "output_type": "stream",
          "name": "stdout",
          "text": [
            "    Edad  Frecuencia  Frec_Relativa\n",
            "19    18           2           0.02\n",
            "44    19           1           0.01\n",
            "27    20           2           0.02\n",
            "6     21           4           0.04\n",
            "37    22           1           0.01\n",
            "34    25           1           0.01\n",
            "41    26           1           0.01\n",
            "30    27           2           0.02\n",
            "9     28           3           0.03\n",
            "39    31           1           0.01\n",
            "0     32           5           0.05\n",
            "15    33           2           0.02\n",
            "29    34           2           0.02\n",
            "36    35           1           0.01\n",
            "24    37           2           0.02\n",
            "1     38           5           0.05\n",
            "4     39           4           0.04\n",
            "5     40           4           0.04\n",
            "7     41           3           0.03\n",
            "2     42           4           0.04\n",
            "32    44           1           0.01\n",
            "12    45           3           0.03\n",
            "42    46           1           0.01\n",
            "3     48           4           0.04\n",
            "14    49           3           0.03\n",
            "16    50           2           0.02\n",
            "26    51           2           0.02\n",
            "31    52           1           0.01\n",
            "13    53           3           0.03\n",
            "22    54           2           0.02\n",
            "20    55           2           0.02\n",
            "40    56           1           0.01\n",
            "28    57           2           0.02\n",
            "43    59           1           0.01\n",
            "25    60           2           0.02\n",
            "35    61           1           0.01\n",
            "18    62           2           0.02\n",
            "33    63           1           0.01\n",
            "23    64           2           0.02\n",
            "11    65           3           0.03\n",
            "10    66           3           0.03\n",
            "8     67           3           0.03\n",
            "21    68           2           0.02\n",
            "17    69           2           0.02\n",
            "38    70           1           0.01\n"
          ]
        }
      ]
    },
    {
      "cell_type": "code",
      "source": [
        "tabla_frecuencias['Frec. Porcentual'] = tabla_frecuencias['Frec_Relativa'] /100 * 100\n",
        "print(tabla_frecuencias)"
      ],
      "metadata": {
        "colab": {
          "base_uri": "https://localhost:8080/"
        },
        "id": "6xX5p-JZeKGu",
        "outputId": "067867e3-48a3-4f65-b2a7-b820a087cf0b"
      },
      "execution_count": null,
      "outputs": [
        {
          "output_type": "stream",
          "name": "stdout",
          "text": [
            "    Edad  Frecuencia  Frec_Relativa  Frec. Porcentual\n",
            "19    18           2           0.02              0.02\n",
            "44    19           1           0.01              0.01\n",
            "27    20           2           0.02              0.02\n",
            "6     21           4           0.04              0.04\n",
            "37    22           1           0.01              0.01\n",
            "34    25           1           0.01              0.01\n",
            "41    26           1           0.01              0.01\n",
            "30    27           2           0.02              0.02\n",
            "9     28           3           0.03              0.03\n",
            "39    31           1           0.01              0.01\n",
            "0     32           5           0.05              0.05\n",
            "15    33           2           0.02              0.02\n",
            "29    34           2           0.02              0.02\n",
            "36    35           1           0.01              0.01\n",
            "24    37           2           0.02              0.02\n",
            "1     38           5           0.05              0.05\n",
            "4     39           4           0.04              0.04\n",
            "5     40           4           0.04              0.04\n",
            "7     41           3           0.03              0.03\n",
            "2     42           4           0.04              0.04\n",
            "32    44           1           0.01              0.01\n",
            "12    45           3           0.03              0.03\n",
            "42    46           1           0.01              0.01\n",
            "3     48           4           0.04              0.04\n",
            "14    49           3           0.03              0.03\n",
            "16    50           2           0.02              0.02\n",
            "26    51           2           0.02              0.02\n",
            "31    52           1           0.01              0.01\n",
            "13    53           3           0.03              0.03\n",
            "22    54           2           0.02              0.02\n",
            "20    55           2           0.02              0.02\n",
            "40    56           1           0.01              0.01\n",
            "28    57           2           0.02              0.02\n",
            "43    59           1           0.01              0.01\n",
            "25    60           2           0.02              0.02\n",
            "35    61           1           0.01              0.01\n",
            "18    62           2           0.02              0.02\n",
            "33    63           1           0.01              0.01\n",
            "23    64           2           0.02              0.02\n",
            "11    65           3           0.03              0.03\n",
            "10    66           3           0.03              0.03\n",
            "8     67           3           0.03              0.03\n",
            "21    68           2           0.02              0.02\n",
            "17    69           2           0.02              0.02\n",
            "38    70           1           0.01              0.01\n"
          ]
        }
      ]
    },
    {
      "cell_type": "code",
      "source": [
        "tabla_frecuencias['Frec_Acumulada'] = tabla_frecuencias['Frecuencia'].cumsum()\n",
        "print(tabla_frecuencias)"
      ],
      "metadata": {
        "colab": {
          "base_uri": "https://localhost:8080/"
        },
        "id": "UydHnl0geYOB",
        "outputId": "5c563a34-b19d-488c-a65f-f7b7dd79e62f"
      },
      "execution_count": null,
      "outputs": [
        {
          "output_type": "stream",
          "name": "stdout",
          "text": [
            "    Edad  Frecuencia  Frec_Relativa  Frec. Porcentual  Frec_Acumulada\n",
            "19    18           2           0.02              0.02               2\n",
            "44    19           1           0.01              0.01               3\n",
            "27    20           2           0.02              0.02               5\n",
            "6     21           4           0.04              0.04               9\n",
            "37    22           1           0.01              0.01              10\n",
            "34    25           1           0.01              0.01              11\n",
            "41    26           1           0.01              0.01              12\n",
            "30    27           2           0.02              0.02              14\n",
            "9     28           3           0.03              0.03              17\n",
            "39    31           1           0.01              0.01              18\n",
            "0     32           5           0.05              0.05              23\n",
            "15    33           2           0.02              0.02              25\n",
            "29    34           2           0.02              0.02              27\n",
            "36    35           1           0.01              0.01              28\n",
            "24    37           2           0.02              0.02              30\n",
            "1     38           5           0.05              0.05              35\n",
            "4     39           4           0.04              0.04              39\n",
            "5     40           4           0.04              0.04              43\n",
            "7     41           3           0.03              0.03              46\n",
            "2     42           4           0.04              0.04              50\n",
            "32    44           1           0.01              0.01              51\n",
            "12    45           3           0.03              0.03              54\n",
            "42    46           1           0.01              0.01              55\n",
            "3     48           4           0.04              0.04              59\n",
            "14    49           3           0.03              0.03              62\n",
            "16    50           2           0.02              0.02              64\n",
            "26    51           2           0.02              0.02              66\n",
            "31    52           1           0.01              0.01              67\n",
            "13    53           3           0.03              0.03              70\n",
            "22    54           2           0.02              0.02              72\n",
            "20    55           2           0.02              0.02              74\n",
            "40    56           1           0.01              0.01              75\n",
            "28    57           2           0.02              0.02              77\n",
            "43    59           1           0.01              0.01              78\n",
            "25    60           2           0.02              0.02              80\n",
            "35    61           1           0.01              0.01              81\n",
            "18    62           2           0.02              0.02              83\n",
            "33    63           1           0.01              0.01              84\n",
            "23    64           2           0.02              0.02              86\n",
            "11    65           3           0.03              0.03              89\n",
            "10    66           3           0.03              0.03              92\n",
            "8     67           3           0.03              0.03              95\n",
            "21    68           2           0.02              0.02              97\n",
            "17    69           2           0.02              0.02              99\n",
            "38    70           1           0.01              0.01             100\n"
          ]
        }
      ]
    },
    {
      "cell_type": "code",
      "source": [
        "import random"
      ],
      "metadata": {
        "id": "Vuo9-b_Xea-h"
      },
      "execution_count": null,
      "outputs": []
    },
    {
      "cell_type": "code",
      "source": [
        "import math"
      ],
      "metadata": {
        "id": "111sbHnbgUaY"
      },
      "execution_count": null,
      "outputs": []
    },
    {
      "cell_type": "markdown",
      "source": [],
      "metadata": {
        "id": "vnD2oNTSgT3B"
      }
    },
    {
      "cell_type": "code",
      "source": [
        "print(edades)"
      ],
      "metadata": {
        "colab": {
          "base_uri": "https://localhost:8080/"
        },
        "id": "smjgI1yEee30",
        "outputId": "d1e8c63c-b867-45a4-a96a-56c14feb2860"
      },
      "execution_count": null,
      "outputs": [
        {
          "output_type": "stream",
          "name": "stdout",
          "text": [
            "[33, 41, 51, 67, 28, 57, 35, 65, 27, 22, 38, 39, 42, 38, 40, 34, 38, 31, 48, 40, 21, 49, 20, 56, 46, 37, 34, 60, 70, 37, 52, 62, 33, 64, 48, 48, 59, 39, 32, 39, 27, 26, 45, 53, 62, 41, 50, 69, 39, 18, 55, 32, 28, 44, 67, 40, 66, 53, 68, 48, 49, 49, 65, 66, 65, 61, 64, 42, 28, 53, 21, 38, 42, 20, 57, 21, 38, 42, 67, 68, 25, 32, 63, 18, 40, 60, 32, 45, 54, 55, 54, 32, 51, 45, 41, 66, 50, 19, 21, 69]\n"
          ]
        }
      ]
    },
    {
      "cell_type": "code",
      "source": [
        "n = len(edades)\n",
        "k = int(1 + math.log2(100))\n",
        "print(\"Valor de n = \", n, \" \\nNumero de intervalos =\", k)\n"
      ],
      "metadata": {
        "colab": {
          "base_uri": "https://localhost:8080/"
        },
        "id": "vbw0r0WPei7E",
        "outputId": "6de8ead4-0ae7-40f5-8a9b-f5ce7e0c25e3"
      },
      "execution_count": null,
      "outputs": [
        {
          "output_type": "stream",
          "name": "stdout",
          "text": [
            "Valor de n =  100  \n",
            "Numero de intervalos = 7\n"
          ]
        }
      ]
    },
    {
      "cell_type": "code",
      "source": [
        "tabla_frecuencias = pd.cut(df['Edad'], bins=k, include_lowest=True).value_counts().reset_index()\n",
        "tabla_frecuencias.columns = ['Clase', 'Frec']\n",
        "tabla_frecuencias"
      ],
      "metadata": {
        "colab": {
          "base_uri": "https://localhost:8080/",
          "height": 269
        },
        "id": "UZF3qX46g_O8",
        "outputId": "67d35bad-e6e8-4fc3-f55c-8b75bde18e15"
      },
      "execution_count": null,
      "outputs": [
        {
          "output_type": "execute_result",
          "data": {
            "text/plain": [
              "              Clase  Frec\n",
              "0  (32.857, 40.286]    20\n",
              "1  (47.714, 55.143]    19\n",
              "2    (62.571, 70.0]    17\n",
              "3  (25.429, 32.857]    12\n",
              "4  (40.286, 47.714]    12\n",
              "5  (17.947, 25.429]    11\n",
              "6  (55.143, 62.571]     9"
            ],
            "text/html": [
              "\n",
              "  <div id=\"df-ebeee639-70d3-4f1d-a365-4c3d5c8311af\" class=\"colab-df-container\">\n",
              "    <div>\n",
              "<style scoped>\n",
              "    .dataframe tbody tr th:only-of-type {\n",
              "        vertical-align: middle;\n",
              "    }\n",
              "\n",
              "    .dataframe tbody tr th {\n",
              "        vertical-align: top;\n",
              "    }\n",
              "\n",
              "    .dataframe thead th {\n",
              "        text-align: right;\n",
              "    }\n",
              "</style>\n",
              "<table border=\"1\" class=\"dataframe\">\n",
              "  <thead>\n",
              "    <tr style=\"text-align: right;\">\n",
              "      <th></th>\n",
              "      <th>Clase</th>\n",
              "      <th>Frec</th>\n",
              "    </tr>\n",
              "  </thead>\n",
              "  <tbody>\n",
              "    <tr>\n",
              "      <th>0</th>\n",
              "      <td>(32.857, 40.286]</td>\n",
              "      <td>20</td>\n",
              "    </tr>\n",
              "    <tr>\n",
              "      <th>1</th>\n",
              "      <td>(47.714, 55.143]</td>\n",
              "      <td>19</td>\n",
              "    </tr>\n",
              "    <tr>\n",
              "      <th>2</th>\n",
              "      <td>(62.571, 70.0]</td>\n",
              "      <td>17</td>\n",
              "    </tr>\n",
              "    <tr>\n",
              "      <th>3</th>\n",
              "      <td>(25.429, 32.857]</td>\n",
              "      <td>12</td>\n",
              "    </tr>\n",
              "    <tr>\n",
              "      <th>4</th>\n",
              "      <td>(40.286, 47.714]</td>\n",
              "      <td>12</td>\n",
              "    </tr>\n",
              "    <tr>\n",
              "      <th>5</th>\n",
              "      <td>(17.947, 25.429]</td>\n",
              "      <td>11</td>\n",
              "    </tr>\n",
              "    <tr>\n",
              "      <th>6</th>\n",
              "      <td>(55.143, 62.571]</td>\n",
              "      <td>9</td>\n",
              "    </tr>\n",
              "  </tbody>\n",
              "</table>\n",
              "</div>\n",
              "    <div class=\"colab-df-buttons\">\n",
              "\n",
              "  <div class=\"colab-df-container\">\n",
              "    <button class=\"colab-df-convert\" onclick=\"convertToInteractive('df-ebeee639-70d3-4f1d-a365-4c3d5c8311af')\"\n",
              "            title=\"Convert this dataframe to an interactive table.\"\n",
              "            style=\"display:none;\">\n",
              "\n",
              "  <svg xmlns=\"http://www.w3.org/2000/svg\" height=\"24px\" viewBox=\"0 -960 960 960\">\n",
              "    <path d=\"M120-120v-720h720v720H120Zm60-500h600v-160H180v160Zm220 220h160v-160H400v160Zm0 220h160v-160H400v160ZM180-400h160v-160H180v160Zm440 0h160v-160H620v160ZM180-180h160v-160H180v160Zm440 0h160v-160H620v160Z\"/>\n",
              "  </svg>\n",
              "    </button>\n",
              "\n",
              "  <style>\n",
              "    .colab-df-container {\n",
              "      display:flex;\n",
              "      gap: 12px;\n",
              "    }\n",
              "\n",
              "    .colab-df-convert {\n",
              "      background-color: #E8F0FE;\n",
              "      border: none;\n",
              "      border-radius: 50%;\n",
              "      cursor: pointer;\n",
              "      display: none;\n",
              "      fill: #1967D2;\n",
              "      height: 32px;\n",
              "      padding: 0 0 0 0;\n",
              "      width: 32px;\n",
              "    }\n",
              "\n",
              "    .colab-df-convert:hover {\n",
              "      background-color: #E2EBFA;\n",
              "      box-shadow: 0px 1px 2px rgba(60, 64, 67, 0.3), 0px 1px 3px 1px rgba(60, 64, 67, 0.15);\n",
              "      fill: #174EA6;\n",
              "    }\n",
              "\n",
              "    .colab-df-buttons div {\n",
              "      margin-bottom: 4px;\n",
              "    }\n",
              "\n",
              "    [theme=dark] .colab-df-convert {\n",
              "      background-color: #3B4455;\n",
              "      fill: #D2E3FC;\n",
              "    }\n",
              "\n",
              "    [theme=dark] .colab-df-convert:hover {\n",
              "      background-color: #434B5C;\n",
              "      box-shadow: 0px 1px 3px 1px rgba(0, 0, 0, 0.15);\n",
              "      filter: drop-shadow(0px 1px 2px rgba(0, 0, 0, 0.3));\n",
              "      fill: #FFFFFF;\n",
              "    }\n",
              "  </style>\n",
              "\n",
              "    <script>\n",
              "      const buttonEl =\n",
              "        document.querySelector('#df-ebeee639-70d3-4f1d-a365-4c3d5c8311af button.colab-df-convert');\n",
              "      buttonEl.style.display =\n",
              "        google.colab.kernel.accessAllowed ? 'block' : 'none';\n",
              "\n",
              "      async function convertToInteractive(key) {\n",
              "        const element = document.querySelector('#df-ebeee639-70d3-4f1d-a365-4c3d5c8311af');\n",
              "        const dataTable =\n",
              "          await google.colab.kernel.invokeFunction('convertToInteractive',\n",
              "                                                    [key], {});\n",
              "        if (!dataTable) return;\n",
              "\n",
              "        const docLinkHtml = 'Like what you see? Visit the ' +\n",
              "          '<a target=\"_blank\" href=https://colab.research.google.com/notebooks/data_table.ipynb>data table notebook</a>'\n",
              "          + ' to learn more about interactive tables.';\n",
              "        element.innerHTML = '';\n",
              "        dataTable['output_type'] = 'display_data';\n",
              "        await google.colab.output.renderOutput(dataTable, element);\n",
              "        const docLink = document.createElement('div');\n",
              "        docLink.innerHTML = docLinkHtml;\n",
              "        element.appendChild(docLink);\n",
              "      }\n",
              "    </script>\n",
              "  </div>\n",
              "\n",
              "\n",
              "<div id=\"df-10fe6f8e-601d-42f3-9f04-8a9cb161ab5c\">\n",
              "  <button class=\"colab-df-quickchart\" onclick=\"quickchart('df-10fe6f8e-601d-42f3-9f04-8a9cb161ab5c')\"\n",
              "            title=\"Suggest charts\"\n",
              "            style=\"display:none;\">\n",
              "\n",
              "<svg xmlns=\"http://www.w3.org/2000/svg\" height=\"24px\"viewBox=\"0 0 24 24\"\n",
              "     width=\"24px\">\n",
              "    <g>\n",
              "        <path d=\"M19 3H5c-1.1 0-2 .9-2 2v14c0 1.1.9 2 2 2h14c1.1 0 2-.9 2-2V5c0-1.1-.9-2-2-2zM9 17H7v-7h2v7zm4 0h-2V7h2v10zm4 0h-2v-4h2v4z\"/>\n",
              "    </g>\n",
              "</svg>\n",
              "  </button>\n",
              "\n",
              "<style>\n",
              "  .colab-df-quickchart {\n",
              "      --bg-color: #E8F0FE;\n",
              "      --fill-color: #1967D2;\n",
              "      --hover-bg-color: #E2EBFA;\n",
              "      --hover-fill-color: #174EA6;\n",
              "      --disabled-fill-color: #AAA;\n",
              "      --disabled-bg-color: #DDD;\n",
              "  }\n",
              "\n",
              "  [theme=dark] .colab-df-quickchart {\n",
              "      --bg-color: #3B4455;\n",
              "      --fill-color: #D2E3FC;\n",
              "      --hover-bg-color: #434B5C;\n",
              "      --hover-fill-color: #FFFFFF;\n",
              "      --disabled-bg-color: #3B4455;\n",
              "      --disabled-fill-color: #666;\n",
              "  }\n",
              "\n",
              "  .colab-df-quickchart {\n",
              "    background-color: var(--bg-color);\n",
              "    border: none;\n",
              "    border-radius: 50%;\n",
              "    cursor: pointer;\n",
              "    display: none;\n",
              "    fill: var(--fill-color);\n",
              "    height: 32px;\n",
              "    padding: 0;\n",
              "    width: 32px;\n",
              "  }\n",
              "\n",
              "  .colab-df-quickchart:hover {\n",
              "    background-color: var(--hover-bg-color);\n",
              "    box-shadow: 0 1px 2px rgba(60, 64, 67, 0.3), 0 1px 3px 1px rgba(60, 64, 67, 0.15);\n",
              "    fill: var(--button-hover-fill-color);\n",
              "  }\n",
              "\n",
              "  .colab-df-quickchart-complete:disabled,\n",
              "  .colab-df-quickchart-complete:disabled:hover {\n",
              "    background-color: var(--disabled-bg-color);\n",
              "    fill: var(--disabled-fill-color);\n",
              "    box-shadow: none;\n",
              "  }\n",
              "\n",
              "  .colab-df-spinner {\n",
              "    border: 2px solid var(--fill-color);\n",
              "    border-color: transparent;\n",
              "    border-bottom-color: var(--fill-color);\n",
              "    animation:\n",
              "      spin 1s steps(1) infinite;\n",
              "  }\n",
              "\n",
              "  @keyframes spin {\n",
              "    0% {\n",
              "      border-color: transparent;\n",
              "      border-bottom-color: var(--fill-color);\n",
              "      border-left-color: var(--fill-color);\n",
              "    }\n",
              "    20% {\n",
              "      border-color: transparent;\n",
              "      border-left-color: var(--fill-color);\n",
              "      border-top-color: var(--fill-color);\n",
              "    }\n",
              "    30% {\n",
              "      border-color: transparent;\n",
              "      border-left-color: var(--fill-color);\n",
              "      border-top-color: var(--fill-color);\n",
              "      border-right-color: var(--fill-color);\n",
              "    }\n",
              "    40% {\n",
              "      border-color: transparent;\n",
              "      border-right-color: var(--fill-color);\n",
              "      border-top-color: var(--fill-color);\n",
              "    }\n",
              "    60% {\n",
              "      border-color: transparent;\n",
              "      border-right-color: var(--fill-color);\n",
              "    }\n",
              "    80% {\n",
              "      border-color: transparent;\n",
              "      border-right-color: var(--fill-color);\n",
              "      border-bottom-color: var(--fill-color);\n",
              "    }\n",
              "    90% {\n",
              "      border-color: transparent;\n",
              "      border-bottom-color: var(--fill-color);\n",
              "    }\n",
              "  }\n",
              "</style>\n",
              "\n",
              "  <script>\n",
              "    async function quickchart(key) {\n",
              "      const quickchartButtonEl =\n",
              "        document.querySelector('#' + key + ' button');\n",
              "      quickchartButtonEl.disabled = true;  // To prevent multiple clicks.\n",
              "      quickchartButtonEl.classList.add('colab-df-spinner');\n",
              "      try {\n",
              "        const charts = await google.colab.kernel.invokeFunction(\n",
              "            'suggestCharts', [key], {});\n",
              "      } catch (error) {\n",
              "        console.error('Error during call to suggestCharts:', error);\n",
              "      }\n",
              "      quickchartButtonEl.classList.remove('colab-df-spinner');\n",
              "      quickchartButtonEl.classList.add('colab-df-quickchart-complete');\n",
              "    }\n",
              "    (() => {\n",
              "      let quickchartButtonEl =\n",
              "        document.querySelector('#df-10fe6f8e-601d-42f3-9f04-8a9cb161ab5c button');\n",
              "      quickchartButtonEl.style.display =\n",
              "        google.colab.kernel.accessAllowed ? 'block' : 'none';\n",
              "    })();\n",
              "  </script>\n",
              "</div>\n",
              "\n",
              "  <div id=\"id_5685b090-864b-4de7-9b3e-c18b347d5789\">\n",
              "    <style>\n",
              "      .colab-df-generate {\n",
              "        background-color: #E8F0FE;\n",
              "        border: none;\n",
              "        border-radius: 50%;\n",
              "        cursor: pointer;\n",
              "        display: none;\n",
              "        fill: #1967D2;\n",
              "        height: 32px;\n",
              "        padding: 0 0 0 0;\n",
              "        width: 32px;\n",
              "      }\n",
              "\n",
              "      .colab-df-generate:hover {\n",
              "        background-color: #E2EBFA;\n",
              "        box-shadow: 0px 1px 2px rgba(60, 64, 67, 0.3), 0px 1px 3px 1px rgba(60, 64, 67, 0.15);\n",
              "        fill: #174EA6;\n",
              "      }\n",
              "\n",
              "      [theme=dark] .colab-df-generate {\n",
              "        background-color: #3B4455;\n",
              "        fill: #D2E3FC;\n",
              "      }\n",
              "\n",
              "      [theme=dark] .colab-df-generate:hover {\n",
              "        background-color: #434B5C;\n",
              "        box-shadow: 0px 1px 3px 1px rgba(0, 0, 0, 0.15);\n",
              "        filter: drop-shadow(0px 1px 2px rgba(0, 0, 0, 0.3));\n",
              "        fill: #FFFFFF;\n",
              "      }\n",
              "    </style>\n",
              "    <button class=\"colab-df-generate\" onclick=\"generateWithVariable('tabla_frecuencias')\"\n",
              "            title=\"Generate code using this dataframe.\"\n",
              "            style=\"display:none;\">\n",
              "\n",
              "  <svg xmlns=\"http://www.w3.org/2000/svg\" height=\"24px\"viewBox=\"0 0 24 24\"\n",
              "       width=\"24px\">\n",
              "    <path d=\"M7,19H8.4L18.45,9,17,7.55,7,17.6ZM5,21V16.75L18.45,3.32a2,2,0,0,1,2.83,0l1.4,1.43a1.91,1.91,0,0,1,.58,1.4,1.91,1.91,0,0,1-.58,1.4L9.25,21ZM18.45,9,17,7.55Zm-12,3A5.31,5.31,0,0,0,4.9,8.1,5.31,5.31,0,0,0,1,6.5,5.31,5.31,0,0,0,4.9,4.9,5.31,5.31,0,0,0,6.5,1,5.31,5.31,0,0,0,8.1,4.9,5.31,5.31,0,0,0,12,6.5,5.46,5.46,0,0,0,6.5,12Z\"/>\n",
              "  </svg>\n",
              "    </button>\n",
              "    <script>\n",
              "      (() => {\n",
              "      const buttonEl =\n",
              "        document.querySelector('#id_5685b090-864b-4de7-9b3e-c18b347d5789 button.colab-df-generate');\n",
              "      buttonEl.style.display =\n",
              "        google.colab.kernel.accessAllowed ? 'block' : 'none';\n",
              "\n",
              "      buttonEl.onclick = () => {\n",
              "        google.colab.notebook.generateWithVariable('tabla_frecuencias');\n",
              "      }\n",
              "      })();\n",
              "    </script>\n",
              "  </div>\n",
              "\n",
              "    </div>\n",
              "  </div>\n"
            ],
            "application/vnd.google.colaboratory.intrinsic+json": {
              "type": "dataframe",
              "variable_name": "tabla_frecuencias",
              "summary": "{\n  \"name\": \"tabla_frecuencias\",\n  \"rows\": 7,\n  \"fields\": [\n    {\n      \"column\": \"Clase\",\n      \"properties\": {\n        \"dtype\": \"category\",\n        \"num_unique_values\": 7,\n        \"samples\": [\n          \"(32.857, 40.286]\",\n          \"(47.714, 55.143]\",\n          \"(17.947, 25.429]\"\n        ],\n        \"semantic_type\": \"\",\n        \"description\": \"\"\n      }\n    },\n    {\n      \"column\": \"Frec\",\n      \"properties\": {\n        \"dtype\": \"number\",\n        \"std\": 4,\n        \"min\": 9,\n        \"max\": 20,\n        \"num_unique_values\": 6,\n        \"samples\": [\n          20,\n          19,\n          9\n        ],\n        \"semantic_type\": \"\",\n        \"description\": \"\"\n      }\n    }\n  ]\n}"
            }
          },
          "metadata": {},
          "execution_count": 17
        }
      ]
    },
    {
      "cell_type": "code",
      "source": [
        "tabla_frecuencias['Frec_Relativa'] = tabla_frecuencias['Frec'] / n\n",
        "tabla_frecuencias['Frec. Porc'] = tabla_frecuencias['Frec_Relativa'] * 100\n",
        "tabla_frecuencias['Frec Ac'] = tabla_frecuencias['Frec'].cumsum()\n",
        "tabla_frecuencias['Frec Rel Ac'] = tabla_frecuencias['Frec_Relativa'].cumsum()\n",
        "tabla_frecuencias['Frec Porc Ac'] = tabla_frecuencias['Frec. Porc'].cumsum()\n",
        "print(tabla_frecuencias)"
      ],
      "metadata": {
        "colab": {
          "base_uri": "https://localhost:8080/"
        },
        "id": "7NjxQq7ghLxl",
        "outputId": "66fa67b2-d76f-46ba-90d8-8c783af4f0cb"
      },
      "execution_count": null,
      "outputs": [
        {
          "output_type": "stream",
          "name": "stdout",
          "text": [
            "              Clase  Frec  Frec_Relativa  Frec. Porc  Frec Ac  Frec Rel Ac  \\\n",
            "0  (32.857, 40.286]    20           0.20        20.0       20         0.20   \n",
            "1  (47.714, 55.143]    19           0.19        19.0       39         0.39   \n",
            "2    (62.571, 70.0]    17           0.17        17.0       56         0.56   \n",
            "3  (25.429, 32.857]    12           0.12        12.0       68         0.68   \n",
            "4  (40.286, 47.714]    12           0.12        12.0       80         0.80   \n",
            "5  (17.947, 25.429]    11           0.11        11.0       91         0.91   \n",
            "6  (55.143, 62.571]     9           0.09         9.0      100         1.00   \n",
            "\n",
            "   Frec Porc Ac  \n",
            "0          20.0  \n",
            "1          39.0  \n",
            "2          56.0  \n",
            "3          68.0  \n",
            "4          80.0  \n",
            "5          91.0  \n",
            "6         100.0  \n"
          ]
        }
      ]
    },
    {
      "cell_type": "code",
      "source": [
        "import matplotlib.pyplot as plt\n",
        "plt.hist(edades, alpha= 0.5)\n",
        "plt.title(\"Histograma de edades basado en la funcion de matplotlib con valores estandar\")"
      ],
      "metadata": {
        "colab": {
          "base_uri": "https://localhost:8080/",
          "height": 469
        },
        "id": "MtOvKt1uhUAt",
        "outputId": "0296cb32-7d77-47b6-d4a8-b53ad5dfeb6b"
      },
      "execution_count": null,
      "outputs": [
        {
          "output_type": "execute_result",
          "data": {
            "text/plain": [
              "Text(0.5, 1.0, 'Histograma de edades basado en la funcion de matplotlib con valores estandar')"
            ]
          },
          "metadata": {},
          "execution_count": 23
        },
        {
          "output_type": "display_data",
          "data": {
            "text/plain": [
              "<Figure size 640x480 with 1 Axes>"
            ],
            "image/png": "[encoded data removed]"
          },
          "metadata": {}
        }
      ]
    },
    {
      "cell_type": "code",
      "source": [
        "#Crear un histograma basado en la tabla de frecuencia\n",
        "plt.hist(df['Edad'], bins=k,alpha= 0.5)\n",
        "plt.title(\"Histograma de edades basado en la regla de Sturges\")\n",
        "plt.xlabel('Edades')\n",
        "plt.ylabel('frecuencia')\n"
      ],
      "metadata": {
        "colab": {
          "base_uri": "https://localhost:8080/",
          "height": 489
        },
        "id": "DSp1a222jLGq",
        "outputId": "08945914-99cb-4c1c-f39c-a86750ae23c6"
      },
      "execution_count": null,
      "outputs": [
        {
          "output_type": "execute_result",
          "data": {
            "text/plain": [
              "Text(0, 0.5, 'frecuencia')"
            ]
          },
          "metadata": {},
          "execution_count": 26
        },
        {
          "output_type": "display_data",
          "data": {
            "text/plain": [
              "<Figure size 640x480 with 1 Axes>"
            ],
            "image/png": "[encoded data removed]"
          },
          "metadata": {}
        }
      ]
    },
    {
      "cell_type": "markdown",
      "source": [
        "##Practica 5 : Diagrama de caja y bigotes.\n",
        "\n"
      ],
      "metadata": {
        "id": "MKxn9K0Elf_N"
      }
    },
    {
      "cell_type": "code",
      "source": [
        "import random\n",
        "edades2 = []\n",
        "for i in range(100):\n",
        "  numero_aleatorio = random.randint(20, 87)\n",
        "  edades2.append(numero_aleatorio)\n",
        "print(edades2)"
      ],
      "metadata": {
        "id": "46MbPmMnk2uh",
        "colab": {
          "base_uri": "https://localhost:8080/"
        },
        "outputId": "e617c3c7-90c3-49b6-b536-ab42959e98e0"
      },
      "execution_count": null,
      "outputs": [
        {
          "output_type": "stream",
          "name": "stdout",
          "text": [
            "[44, 79, 25, 41, 66, 53, 78, 81, 63, 26, 70, 68, 44, 40, 79, 48, 30, 48, 77, 76, 43, 24, 30, 51, 87, 51, 29, 34, 79, 33, 30, 46, 30, 73, 40, 80, 27, 81, 50, 56, 30, 49, 26, 21, 86, 70, 20, 71, 56, 24, 83, 70, 69, 49, 46, 67, 49, 30, 55, 43, 26, 56, 59, 20, 84, 57, 26, 26, 34, 72, 50, 38, 74, 25, 40, 58, 28, 78, 43, 29, 67, 66, 38, 28, 50, 85, 62, 85, 26, 23, 55, 22, 42, 57, 53, 78, 63, 34, 72, 71]\n"
          ]
        }
      ]
    },
    {
      "cell_type": "code",
      "source": [
        "fig, (ax1, ax2) = plt.subplots(nrows=1, ncols=2, figsize=(9, 4))\n",
        "\n",
        "bplot1=ax1.boxplot(edades,\n",
        "                   vert=True, #vertical box alignment\n",
        "                   patch_artist=True) #fill with color\n",
        "\n",
        "ax1.set_title('Edades')\n",
        "\n",
        "bplot2=ax2.boxplot(edades2,\n",
        "                   vert=True, #vertical box alignment\n",
        "                   patch_artist=True) #fill with color\n",
        "\n",
        "ax2.set_title('Edades 2')\n",
        "plt.show()"
      ],
      "metadata": {
        "colab": {
          "base_uri": "https://localhost:8080/",
          "height": 391
        },
        "id": "9rBxoOEBnvY7",
        "outputId": "474bb47f-eb07-4504-9cf6-f35ef649dde1"
      },
      "execution_count": null,
      "outputs": [
        {
          "output_type": "display_data",
          "data": {
            "text/plain": [
              "<Figure size 900x400 with 2 Axes>"
            ],
            "image/png": "[encoded data removed]"
          },
          "metadata": {}
        }
      ]
    },
    {
      "cell_type": "code",
      "source": [
        "edades2.append(130)"
      ],
      "metadata": {
        "id": "YqL2HJ-Uq0TJ"
      },
      "execution_count": null,
      "outputs": []
    },
    {
      "cell_type": "code",
      "source": [],
      "metadata": {
        "id": "JscdhaxjrU-U"
      },
      "execution_count": null,
      "outputs": []
    },
    {
      "cell_type": "code",
      "source": [
        "fig, (ax1, ax2) = plt.subplots(nrows=1, ncols=2, figsize=(9, 4))\n",
        "\n",
        "bplot1=ax1.boxplot(edades,\n",
        "                   vert=True, #vertical box alignment\n",
        "                   patch_artist=True) #fill with color\n",
        "\n",
        "ax1.set_title('Edades')\n",
        "\n",
        "bplot2=ax2.boxplot(edades2,\n",
        "                   vert=True, #vertical box alignment\n",
        "                   patch_artist=True) #fill with color\n",
        "\n",
        "ax2.set_title('Edades 2')\n",
        "plt.show()"
      ],
      "metadata": {
        "colab": {
          "base_uri": "https://localhost:8080/",
          "height": 391
        },
        "id": "d1PhB92mrNYh",
        "outputId": "ddd78bc7-a00d-424c-871a-4fb9b3c6a4f7"
      },
      "execution_count": null,
      "outputs": [
        {
          "output_type": "display_data",
          "data": {
            "text/plain": [
              "<Figure size 900x400 with 2 Axes>"
            ],
            "image/png": "[encoded data removed]"
          },
          "metadata": {}
        }
      ]
    }
  ]
}